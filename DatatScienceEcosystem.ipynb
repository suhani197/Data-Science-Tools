{
 "cells": [
  {
   "cell_type": "markdown",
   "id": "82d647d9-280f-4c7a-8141-80245441d78d",
   "metadata": {},
   "source": [
    "# Data Science Tools and Ecosystem"
   ]
  },
  {
   "cell_type": "markdown",
   "id": "ce8439ea-be2d-4c84-848d-684a7410c65a",
   "metadata": {},
   "source": [
    "In this notebook, Data Science Tools and Ecosystem are summarized"
   ]
  },
  {
   "cell_type": "markdown",
   "id": "f7543610-fdf8-4d59-97a2-e14c9eea7409",
   "metadata": {},
   "source": [
    "**Objectives:**\n",
    "- Listing popular languages for data science.\n",
    "- Listing commonly used libraries in data science.\n",
    "- Creating a table with data science tools.\n",
    "- Evaluating arithmetic expressions."
   ]
  },
  {
   "cell_type": "markdown",
   "id": "9d4cfe67-5658-4cb4-abee-5405a56c5317",
   "metadata": {
    "tags": []
   },
   "source": [
    "Some of the popular languages that Data Scientists use are:\n",
    "1. Python\n",
    "2. SQL\n",
    "3. Java\n",
    "4. R"
   ]
  },
  {
   "cell_type": "markdown",
   "id": "ac9cef3e-a80d-4fb0-8354-beaf41cb7653",
   "metadata": {},
   "source": [
    "Some of the commonly used libraries used by Data Scientists include:\n",
    "1. Numpy\n",
    "2. SciPy\n",
    "3. Pandas\n",
    "4. Matplotlib"
   ]
  },
  {
   "cell_type": "markdown",
   "id": "1360369f-44a5-4c42-83ea-0b8337fae45b",
   "metadata": {},
   "source": [
    "|Data Science Tools|\n",
    "--------------------\n",
    "|Apache Spark|\n",
    "|Hadoop|\n",
    "|Jupyter|\n",
    "|TensorFlow|\n"
   ]
  },
  {
   "cell_type": "markdown",
   "id": "174d8c55-ec58-4f06-a2db-6f54652790d3",
   "metadata": {},
   "source": [
    "### Below are a few examples of evaluating arithmetic expressions in Python"
   ]
  },
  {
   "cell_type": "code",
   "execution_count": 4,
   "id": "e4de314e-6e34-44ab-a05a-fddf56724afa",
   "metadata": {
    "tags": []
   },
   "outputs": [
    {
     "data": {
      "text/plain": [
       "17"
      ]
     },
     "execution_count": 4,
     "metadata": {},
     "output_type": "execute_result"
    }
   ],
   "source": [
    "#This a simple arithmetic expression to mutiply then add integers.\n",
    "(3*4)+5"
   ]
  },
  {
   "cell_type": "code",
   "execution_count": 5,
   "id": "07df19b7-b00b-41e2-afb9-59c999e0eb5f",
   "metadata": {
    "tags": []
   },
   "outputs": [
    {
     "data": {
      "text/plain": [
       "3.3333333333333335"
      ]
     },
     "execution_count": 5,
     "metadata": {},
     "output_type": "execute_result"
    }
   ],
   "source": [
    "#This will convert 200 minutes to hours by diving by 60\n",
    "200/60"
   ]
  },
  {
   "cell_type": "markdown",
   "id": "93f61396-7b5a-4109-b081-6bb7973c1136",
   "metadata": {},
   "source": [
    "## Author\n",
    "Suhani Agarwal"
   ]
  },
  {
   "cell_type": "code",
   "execution_count": null,
   "id": "e071f795-7e2f-47c9-acd1-522e41f9a07f",
   "metadata": {},
   "outputs": [],
   "source": []
  }
 ],
 "metadata": {
  "kernelspec": {
   "display_name": "Python",
   "language": "python",
   "name": "conda-env-python-py"
  },
  "language_info": {
   "codemirror_mode": {
    "name": "ipython",
    "version": 3
   },
   "file_extension": ".py",
   "mimetype": "text/x-python",
   "name": "python",
   "nbconvert_exporter": "python",
   "pygments_lexer": "ipython3",
   "version": "3.7.12"
  }
 },
 "nbformat": 4,
 "nbformat_minor": 5
}
